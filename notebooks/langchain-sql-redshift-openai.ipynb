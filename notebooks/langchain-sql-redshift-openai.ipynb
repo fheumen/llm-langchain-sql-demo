{
 "cells": [
  {
   "cell_type": "markdown",
   "metadata": {
    "tags": []
   },
   "source": [
    "# Using LangChain and LLMs to Analyze Data in Amazon Redshift\n",
    "\n",
    "Demonstration of [LangChain SQL Chain](https://python.langchain.com/en/latest/modules/chains/examples/sqlite.html) (`SQLDatabaseChain` and `SQLDatabaseSequentialChain`) and [SQL Database Agent](https://python.langchain.com/en/latest/modules/agents/toolkits/examples/sql_database.html) to analyze the data in an [Amazon Redshift](https://aws.amazon.com/redshift/) cloud data warehousing. Demonstration uses OpenAI's LLMs via an API.\n",
    "\n",
    "Author: Gary A. Stafford  \n",
    "Date: 2023-06-01  \n",
    "License: MIT  \n",
    "Kernal: `conda_python3`  \n",
    "References:\n",
    "- [LangChain Documentation: SQL Chain example](https://python.langchain.com/en/latest/modules/chains/examples/sqlite.html#sql-chain-example)\n",
    "- [LangChain Blog: LLMs and SQL](https://blog.langchain.dev/llms-and-sql/)\n",
    "- [How do davinci and text-davinci-003 differ?](https://help.openai.com/en/articles/6643408-how-do-davinci-and-text-davinci-003-differ)\n",
    "- [How do text-davinci-002 and text-davinci-003 differ?](https://help.openai.com/en/articles/6779149-how-do-text-davinci-002-and-text-davinci-003-differ)"
   ]
  },
  {
   "cell_type": "markdown",
   "metadata": {
    "tags": []
   },
   "source": [
    "## Prerequisites\n",
    "\n",
    "1. Import [TICKIT database](https://docs.aws.amazon.com/redshift/latest/dg/c_sampledb.html) into an [Amazon Redshift](https://aws.amazon.com/redshift/) database.\n",
    "\n",
    "2. Create a new [Amazon SageMaker notebook instance](https://docs.aws.amazon.com/sagemaker/latest/dg/nbi.html) for this demonstration. Make sure your Redshift cluster is accessible to your SageMaker Notebook environment.\n",
    "\n",
    "3. `git clone` this post's GitHub project to your Amazon SageMaker notebook instance.\n",
    "\n",
    "4. Create or update the `.env` file, used by `dotenv`, using the terminal in your SageMaker Notebook environment. A sample `env.txt` file in the project.\n",
    "\n",
    "5. Add your Amazon Redshift credentials to the `.env` file. See this post's GitHub project for an example.\n",
    "\n",
    "6. Create an OpenAI account and update the `.env` file to include your OpenAI API Key.\n",
    "\n",
    "__NOTE__: When using `dotenv`, credentials will be stored in plain text. The recommended and more secure method is to use [AWS Secrets Manager](https://docs.aws.amazon.com/secretsmanager/latest/userguide/intro.html)."
   ]
  },
  {
   "cell_type": "markdown",
   "metadata": {},
   "source": [
    "## Required for ChromaDB in Amazon Jumpstart environment"
   ]
  },
  {
   "cell_type": "code",
   "execution_count": null,
   "metadata": {},
   "outputs": [],
   "source": [
    "!apt-get update -qq && apt-get install -y build-essential -qq"
   ]
  },
  {
   "cell_type": "markdown",
   "metadata": {},
   "source": [
    "## Install Required Packages"
   ]
  },
  {
   "cell_type": "code",
   "execution_count": null,
   "metadata": {
    "tags": []
   },
   "outputs": [],
   "source": [
    "# Optional: update version of pip\n",
    "%pip install pip -Uq\n",
    "\n",
    "# Currently sqlalchemy-redshift not compatible with 2.x\n",
    "%pip install SQLAlchemy==1.4.48 -q\n",
    "\n",
    "# Install latest versions of required packages\n",
    "%pip install ipywidgets langchain openai python-dotenv sqlalchemy-redshift psycopg2-binary chromadb -Uq\n",
    "%pip install pyyaml -q\n",
    "\n",
    "# Avoid issues with install\n",
    "# https://github.com/aws/amazon-sagemaker-examples/issues/1890#issuecomment-758871546\n",
    "%pip install sentence-transformers -Uq --no-cache-dir #--force-reinstall"
   ]
  },
  {
   "cell_type": "code",
   "execution_count": null,
   "metadata": {
    "tags": []
   },
   "outputs": [],
   "source": [
    "# Optional: restart kernel to update packages\n",
    "# import os\n",
    "# os._exit(00)"
   ]
  },
  {
   "cell_type": "code",
   "execution_count": null,
   "metadata": {
    "tags": []
   },
   "outputs": [],
   "source": [
    "# Check verions of critical packages\n",
    "%pip list | grep \"langchain\\|openai\\|sentence-transformers\\|SQLAlchemy\""
   ]
  },
  {
   "cell_type": "markdown",
   "metadata": {},
   "source": [
    "## Setup Environment Variable\n",
    "\n",
    "Use `dotenv` to load the OpenAI and Redshift environment variables. __NOTE__: credentials will be stored in plain text. The recommended, more secure method is to use [AWS Secrets Manager](https://docs.aws.amazon.com/secretsmanager/latest/userguide/intro.html)."
   ]
  },
  {
   "cell_type": "code",
   "execution_count": null,
   "metadata": {
    "tags": []
   },
   "outputs": [],
   "source": [
    "import os\n",
    "\n",
    "# Avoid huggingface/tokenizers parallelism error\n",
    "os.environ[\"TOKENIZERS_PARALLELISM\"] = \"false\""
   ]
  },
  {
   "cell_type": "code",
   "execution_count": null,
   "metadata": {
    "tags": []
   },
   "outputs": [],
   "source": [
    "# Load env vars from .env file\n",
    "%load_ext dotenv\n",
    "\n",
    "# %reload_ext dotenv\n",
    "\n",
    "%dotenv"
   ]
  },
  {
   "cell_type": "code",
   "execution_count": null,
   "metadata": {
    "tags": []
   },
   "outputs": [],
   "source": [
    "# SQLAlchemy 2.0 reference: https://pypi.org/project/sqlalchemy-redshift/\n",
    "# Endpoint format: redshift+psycopg2://username@host.amazonaws.com:5439/database\n",
    "\n",
    "REDSHIFT_HOST = os.environ.get(\"REDSHIFT_HOST\")\n",
    "REDSHIFT_PORT = os.environ.get(\"REDSHIFT_PORT\")\n",
    "REDSHIFT_DATABASE = os.environ.get(\"REDSHIFT_DATABASE\")\n",
    "REDSHIFT_USERNAME = os.environ.get(\"REDSHIFT_USERNAME\")\n",
    "REDSHIFT_PASSWORD = os.environ.get(\"REDSHIFT_PASSWORD\")\n",
    "REDSHIFT_ENDPOINT = f\"redshift+psycopg2://{REDSHIFT_USERNAME}:{REDSHIFT_PASSWORD}@{REDSHIFT_HOST}:{REDSHIFT_PORT}/{REDSHIFT_DATABASE}\"\n",
    "\n",
    "# print URI\n",
    "REDSHIFT_ENDPOINT_PRINT = REDSHIFT_ENDPOINT.replace(\n",
    "    REDSHIFT_HOST, \"******.******.us-east-1.redshift.amazonaws.com\"\n",
    ")\n",
    "REDSHIFT_ENDPOINT_PRINT = REDSHIFT_ENDPOINT_PRINT.replace(REDSHIFT_PASSWORD, \"******\")\n",
    "print(REDSHIFT_ENDPOINT_PRINT)"
   ]
  },
  {
   "cell_type": "markdown",
   "metadata": {
    "tags": []
   },
   "source": [
    "## LangChain OpenAI\n",
    "\n",
    "Use OpenAI's `text-davinci-003` LLM. See OpenAI's [Models Overview](https://platform.openai.com/docs/models/overview) for model information."
   ]
  },
  {
   "cell_type": "code",
   "execution_count": null,
   "metadata": {
    "tags": []
   },
   "outputs": [],
   "source": [
    "from langchain import SQLDatabase, SQLDatabaseChain, OpenAI\n",
    "from langchain.chat_models import ChatOpenAI\n",
    "from langchain.chains import SQLDatabaseSequentialChain"
   ]
  },
  {
   "cell_type": "code",
   "execution_count": null,
   "metadata": {
    "tags": []
   },
   "outputs": [],
   "source": [
    "# llm = OpenAI(model_name=\"text-davinci-003\", temperature=0, verbose=True)\n",
    "llm = ChatOpenAI(model_name=\"gpt-3.5-turbo\", temperature=0, verbose=True)"
   ]
  },
  {
   "cell_type": "markdown",
   "metadata": {},
   "source": [
    "## Using LangChain's SQL Chain\n",
    "\n",
    "Next, we will use LangChain's [SQLDatabaseChain](https://python.langchain.com/en/latest/modules/chains/examples) and [SQLDatabaseSequentialChain](https://python.langchain.com/en/latest/modules/chains/examples/sqlite.html#sqldatabasesequentialchain) for answering questions of the MoMA database."
   ]
  },
  {
   "cell_type": "code",
   "execution_count": null,
   "metadata": {
    "tags": []
   },
   "outputs": [],
   "source": [
    "# A few sample questions\n",
    "QUESTION_01 = \"How many categories are there?\"\n",
    "QUESTION_02 = \"How many rows are in the listing table?\"\n",
    "QUESTION_03 = \"How many customers made a purchase in May 2022?\"\n",
    "QUESTION_04 = \"What were the total sales in September 2022?\"\n",
    "QUESTION_05 = \"Who are the top 10 buyers based on number of tickets?\"\n",
    "QUESTION_06 = \"What are the top 3 events in terms of all time gross sales?\"\n",
    "QUESTION_07 = \"Who are the top 5 sellers based on all time gross sales?\"\n",
    "QUESTION_08 = \"Which venue hosted the most events?\"\n",
    "QUESTION_09 = (\n",
    "    \"How many events are in the 99.9 percentile in terms of all time gross sales?\"\n",
    ")"
   ]
  },
  {
   "cell_type": "code",
   "execution_count": null,
   "metadata": {
    "tags": []
   },
   "outputs": [],
   "source": [
    "from sqlalchemy.exc import ProgrammingError, DataError\n",
    "\n",
    "db = SQLDatabase.from_uri(REDSHIFT_ENDPOINT)\n",
    "\n",
    "db_chain = SQLDatabaseSequentialChain.from_llm(\n",
    "    llm, db, verbose=True, use_query_checker=True\n",
    ")\n",
    "\n",
    "try:\n",
    "    db_chain(QUESTION_03)\n",
    "except (ProgrammingError, ValueError, DataError) as exc:\n",
    "    print(f\"\\n\\n{exc}\")"
   ]
  },
  {
   "cell_type": "markdown",
   "metadata": {},
   "source": [
    "## More Options: Custom Table Info and Query Checker\n",
    "\n",
    "According to LangChain's [documentation](https://python.langchain.com/en/latest/modules/chains/examples/sqlite.html#custom-table-info), \"_In some cases, it can be useful to provide custom table information instead of using the automatically generated table definitions and the first sample_rows_in_table_info sample rows._\" Of course, this is impractical when dealing with a large number of tables.\n",
    "\n",
    "\"_Sometimes the Language Model generates invalid SQL with small mistakes that can be self-corrected using the same technique used by the SQL Database Agent to try and fix the SQL using the LLM. You can simply specify this option when creating the chain._\"\n",
    "\n",
    "_\n",
    "According to LangChain's [documentation](https://python.langchain.com/en/latest/modules/chains/examples/sqlite.html#adding-example-rows-from-each-table), \"_Sometimes the Language Model generates invalid SQL with small mistakes that can be self-corrected using the same technique used by the SQL Database Agent to try and fix the SQL using the LLM._\""
   ]
  },
  {
   "cell_type": "code",
   "execution_count": null,
   "metadata": {
    "tags": []
   },
   "outputs": [],
   "source": [
    "# reduce tokens by slimming down table definitions\n",
    "\n",
    "custom_table_info_slim = {\n",
    "    \"d_category\": \"\"\"CREATE TABLE d_category (\n",
    "    catid smallint NOT NULL,\n",
    "        catgroup character varying(10),\n",
    "        catname character varying(10),\n",
    "        catdesc character varying(50));\n",
    "\n",
    "/*\n",
    "3 rows from d_category table:\n",
    "catid\tcatgroup\tcatname\tcatdesc\n",
    "2\tSports\tNHL\tNational Hockey League\t\n",
    "4\tSports\tNBA\tNational Basketball Association\t\n",
    "5\tSports\tMLS\tMajor League Soccer\t\n",
    "*/\"\"\",\n",
    "    \"d_date\": \"\"\"CREATE TABLE d_date (\n",
    "        dateid smallint NOT NULL,\n",
    "        caldate date NOT NULL,\n",
    "        day smallint NOT NULL,\n",
    "        month smallint NOT NULL,\n",
    "        year smallint NOT NULL,\n",
    "        week smallint NOT NULL,\n",
    "        qtr smallint NOT NULL,\n",
    "        holiday boolean DEFAULT false,\n",
    "        PRIMARY KEY (dateid));\n",
    "\n",
    "/*\n",
    "3 rows from d_date table:\n",
    "dateid\tcaldate\tday\tmonth\tyear\tweek\tqtr\tholiday\n",
    "1827\t2008-01-01\t1\t1\t2008\t1\t1\ttrue\t\n",
    "1831\t2008-01-05\t5\t1\t2008\t2\t1\tfalse\t\n",
    "1836\t2008-01-10\t10\t1\t2008\t2\t1\tfalse\t\n",
    "*/\"\"\",\n",
    "    \"d_event\": \"\"\"CREATE TABLE d_event (\n",
    "        eventid integer NOT NULL,\n",
    "        venueid smallint NOT NULL,\n",
    "        catid smallint NOT NULL,\n",
    "        dateid smallint NOT NULL,\n",
    "        eventname character varying(200),\n",
    "        starttime timestamp without time zone,\n",
    "        PRIMARY KEY (eventid),\n",
    "        FOREIGN KEY (venueid) REFERENCES d_venue(venueid),\n",
    "        FOREIGN KEY (catid) REFERENCES d_category(catid),\n",
    "        FOREIGN KEY (dateid) REFERENCES d_date(dateid));\n",
    "\n",
    "/*\n",
    "3 rows from d_event table:\n",
    "eventid\tvenueid\tcatid\tdateid\teventname\tstarttime\n",
    "1217\t238\t6\t1827\tMamma Mia!\t2008-01-01 20:00:00\t\n",
    "1433\t248\t6\t1827\tGrease\t2008-01-01 19:00:00\t\n",
    "2811\t207\t7\t1827\tSpring Awakening\t2008-01-01 15:00:00\t\n",
    "*/\"\"\",\n",
    "    \"d_user\": \"\"\"CREATE TABLE d_user (\n",
    "        userid integer,\n",
    "        username character(8),\n",
    "        firstname character varying(30),\n",
    "        lastname character varying(30),\n",
    "        city character varying(30),\n",
    "        state character(2),\n",
    "        email character varying(100),\n",
    "        phone character(14),\n",
    "        likesports boolean,\n",
    "        liketheatre boolean,\n",
    "        likeconcerts boolean,\n",
    "        likejazz boolean,\n",
    "        likeclassical boolean,\n",
    "        likeopera boolean,\n",
    "        likerock boolean,\n",
    "        likevegas boolean,\n",
    "        likebroadway boolean,\n",
    "        likemusicals boolean);\n",
    "\n",
    "/*\n",
    "3 rows from d_user table:\n",
    "userid\tusername\tfirstname\tlastname\tcity\tstate\temail\tphone\tlikesports\tliketheatre\tlikeconcerts\tlikejazz\tlikeclassical\tlikeopera\tlikerock\tlikevegas\tlikebroadway\tlikemusicals\n",
    "2\tPGL08LJI\tVladimir\tHumphrey\tMurfreesboro\tSK\tSuspendisse.tristique@nonnisiAenean.edu\t(783) 492-1886\tNULL\tNULL\tNULL\ttrue\ttrue\tNULL\tNULL\ttrue\tfalse\ttrue\t\n",
    "4\tXDZ38RDD\tBarry\tRoy\tOmaha\tAB\tsed@lacusUtnec.ca\t(355) 452-8168\tfalse\ttrue\tNULL\tfalse\tNULL\tNULL\tNULL\tNULL\tNULL\tfalse\t\n",
    "5\tAEB55QTM\tReagan\tHodge\tForest Lake\tNS\tCum@accumsan.com\t(476) 519-9131\tNULL\tNULL\ttrue\tfalse\tNULL\tNULL\ttrue\ttrue\tfalse\ttrue\t\n",
    "*/\"\"\",\n",
    "    \"d_venue\": \"\"\"CREATE TABLE d_venue (\n",
    "        venueid smallint,\n",
    "        venuename character varying(100),\n",
    "        venuecity character varying(30),\n",
    "        venuestate character(2),\n",
    "        venueseats integer);\n",
    "\n",
    "/*\n",
    "3 rows from d_user table:\n",
    "venueid\tvenuename\tvenuecity\tvenuestate\tvenueseats\n",
    "1\tToyota Park\tBridgeview\tIL\t0\t\n",
    "3\tRFK Stadium\tWashington\tDC\t0\t\n",
    "6\tNew York Giants Stadium\tEast Rutherford\tNJ\t80242\t\n",
    "*/\"\"\",\n",
    "    \"f_listing\": \"\"\"CREATE TABLE f_listing (\n",
    "        listid integer,\n",
    "        sellerid integer,\n",
    "        eventid integer,\n",
    "        dateid smallint,\n",
    "        numtickets smallint,\n",
    "        priceperticket numeric(8, 2),\n",
    "        totalprice numeric(8, 2),\n",
    "        listtime timestamp without time zone);\n",
    "\n",
    "/*\n",
    "3 rows from f_listing table:\n",
    "listid\tsellerid\teventid\tdateid\tnumtickets\tpriceperticket\ttotalprice\tlisttime\n",
    "614\t25339\t770\t1827\t10\t236\t2360\t2008-01-01 05:07:30\t\n",
    "776\t20797\t1811\t1827\t18\t133\t2394\t2008-01-01 06:59:39\t\n",
    "2092\t42560\t8609\t1827\t22\t194\t4268\t2008-01-01 05:49:06\t\n",
    "*/\"\"\",\n",
    "    \"f_sales\": \"\"\"CREATE TABLE f_sales (\n",
    "        salesid integer,\n",
    "        listid integer,\n",
    "        sellerid integer,\n",
    "        buyerid integer,\n",
    "        eventid integer,\n",
    "        dateid smallint,\n",
    "        qtysold smallint,\n",
    "        pricepaid numeric(8, 2),\n",
    "        commission numeric(8, 2),\n",
    "        saletime timestamp without time zone);\n",
    "\n",
    "3 rows from f_sales table:\n",
    "salesid\tlistid\tsellerid\tbuyerid\teventid\tdateid\tqtysold\tpricepaid\tcommission\tsaletime\n",
    "33095\t36572\t30047\t660\t2903\t1827\t2\t234\t35.1\t2008-01-01 09:41:06\t\n",
    "88268\t100813\t45818\t698\t8649\t1827\t4\t836\t125.4\t2008-01-01 07:26:20\t\n",
    "110917\t127048\t37631\t116\t1749\t1827\t1\t337\t50.55\t2008-01-01 07:05:02\t\n",
    "*/\"\"\",\n",
    "}"
   ]
  },
  {
   "cell_type": "code",
   "execution_count": null,
   "metadata": {
    "tags": []
   },
   "outputs": [],
   "source": [
    "print(custom_table_info_slim[\"d_event\"])"
   ]
  },
  {
   "cell_type": "code",
   "execution_count": null,
   "metadata": {
    "tags": []
   },
   "outputs": [],
   "source": [
    "db = SQLDatabase.from_uri(\n",
    "    REDSHIFT_ENDPOINT,\n",
    "    include_tables=[\n",
    "        \"d_category\",\n",
    "        \"d_date\",\n",
    "        \"d_event\",\n",
    "        \"d_user\",\n",
    "        \"d_venue\",\n",
    "        \"f_listing\",\n",
    "        \"f_sales\",\n",
    "    ],\n",
    "    sample_rows_in_table_info=3,\n",
    "    custom_table_info=custom_table_info_slim,\n",
    ")\n",
    "\n",
    "db_chain = SQLDatabaseSequentialChain.from_llm(\n",
    "    llm, db, verbose=True, use_query_checker=True, top_k=3\n",
    ")\n",
    "\n",
    "try:\n",
    "    db_chain(QUESTION_08)\n",
    "except (ProgrammingError, ValueError) as exc:\n",
    "    print(f\"\\n\\n{exc}\")"
   ]
  },
  {
   "cell_type": "markdown",
   "metadata": {},
   "source": [
    "## Customize Prompt and Return Intermediate Steps\n",
    "\n",
    "For this part of the demonstration, we will also use a `PromptTemplate`. LangChain's [Prompt Templates](https://python.langchain.com/en/latest/modules/prompts/prompt_templates.html). According to LangChain, \"_A prompt template refers to a reproducible way to generate a prompt. It contains a text string (“the template”), that can take in a set of parameters from the end user and generate a prompt._\"\n",
    "\n",
    "According to LangChain's [documentation](https://python.langchain.com/en/latest/modules/chains/examples/sqlite.html#return-intermediate-steps), \"_You can also return the intermediate steps of the `SQLDatabaseChain`. This allows you to access the SQL statement that was generated, as well as the result of running that against the SQL Database._\""
   ]
  },
  {
   "cell_type": "code",
   "execution_count": null,
   "metadata": {
    "tags": []
   },
   "outputs": [],
   "source": [
    "from langchain.prompts.prompt import PromptTemplate\n",
    "\n",
    "_DEFAULT_TEMPLATE = \"\"\"Given an input question, first create a syntactically correct {dialect} query to run, then look at the results of the query and return the answer.\n",
    "Use the following format:\n",
    "\n",
    "Question: \"Question here\"\n",
    "SQLQuery: \"SQL Query to run\"\n",
    "SQLResult: \"Result of the SQLQuery\"\n",
    "Answer: \"Final answer here\"\n",
    "\n",
    "Only use the following tables:\n",
    "\n",
    "{table_info}\n",
    "\n",
    "Synonyms for category include categories.\n",
    "Synonyms for user include customer, buyer, and seller.\n",
    "\n",
    "\n",
    "Question: {input}\"\"\"\n",
    "\n",
    "PROMPT = PromptTemplate(\n",
    "    input_variables=[\"input\", \"table_info\", \"dialect\"], template=_DEFAULT_TEMPLATE\n",
    ")\n",
    "\n",
    "# Revert to db without custom_table_info\n",
    "# Could overflow context window (max prompt+completion length) of 4097\n",
    "db = SQLDatabase.from_uri(REDSHIFT_ENDPOINT)\n",
    "\n",
    "db_chain = SQLDatabaseChain.from_llm(\n",
    "    llm,\n",
    "    db,\n",
    "    prompt=PROMPT,\n",
    "    verbose=True,\n",
    "    use_query_checker=True,\n",
    "    return_intermediate_steps=True,\n",
    ")\n",
    "\n",
    "try:\n",
    "    result = db_chain(QUESTION_07)\n",
    "except (ProgrammingError, ValueError) as exc:\n",
    "    print(f\"\\n\\n{exc}\")\n",
    "\n",
    "result[\"intermediate_steps\"]"
   ]
  },
  {
   "cell_type": "markdown",
   "metadata": {},
   "source": [
    "## Using Few-shot Learning\n",
    "\n",
    "To improve the accuracy of the SQL query, LangChain allows us to use few-shot learning (aka few-shot prompting). According to [Wikipedia](https://en.wikipedia.org/wiki/In-context_learning_(natural_language_processing), \"_In natural language processing, in-context learning, few-shot learning or few-shot prompting is a prompting technique that allows a model to process examples before attempting a task. The method was popularized after the advent of GPT-3 and is considered to be an emergent property of large language models._\""
   ]
  },
  {
   "cell_type": "code",
   "execution_count": null,
   "metadata": {
    "tags": []
   },
   "outputs": [],
   "source": [
    "from typing import Dict\n",
    "import yaml\n",
    "\n",
    "chain = SQLDatabaseChain.from_llm(\n",
    "    llm, db, verbose=True, return_intermediate_steps=True, use_query_checker=True\n",
    ")\n",
    "\n",
    "\n",
    "def _parse_example(result: Dict) -> Dict:\n",
    "    sql_cmd_key = \"sql_cmd\"\n",
    "    sql_result_key = \"sql_result\"\n",
    "    table_info_key = \"table_info\"\n",
    "    input_key = \"input\"\n",
    "    final_answer_key = \"answer\"\n",
    "\n",
    "    _example = {\n",
    "        \"input\": result.get(\"query\"),\n",
    "    }\n",
    "\n",
    "    steps = result.get(\"intermediate_steps\")\n",
    "    answer_key = sql_cmd_key  # the first one\n",
    "    for step in steps:\n",
    "        # The steps are in pairs, a dict (input) followed by a string (output).\n",
    "        # Unfortunately there is no schema but you can look at the input key of the\n",
    "        # dict to see what the output is supposed to be\n",
    "        if isinstance(step, dict):\n",
    "            # Grab the table info from input dicts in the intermediate steps once\n",
    "            if table_info_key not in _example:\n",
    "                _example[table_info_key] = step.get(table_info_key)\n",
    "\n",
    "            if input_key in step:\n",
    "                if step[input_key].endswith(\"SQLQuery:\"):\n",
    "                    answer_key = sql_cmd_key  # this is the SQL generation input\n",
    "                if step[input_key].endswith(\"Answer:\"):\n",
    "                    answer_key = final_answer_key  # this is the final answer input\n",
    "            elif sql_cmd_key in step:\n",
    "                _example[sql_cmd_key] = step[sql_cmd_key]\n",
    "                answer_key = sql_result_key  # this is SQL execution input\n",
    "        elif isinstance(step, str):\n",
    "            # The preceding element should have set the answer_key\n",
    "            _example[answer_key] = step\n",
    "    return _example\n",
    "\n",
    "\n",
    "example: any\n",
    "try:\n",
    "    result = chain(QUESTION_07)\n",
    "    print(\"\\n*** Query succeeded\")\n",
    "    example = _parse_example(result)\n",
    "except Exception as exc:\n",
    "    print(\"\\n*** Query failed\")\n",
    "    result = {\"query\": QUESTION_07, \"intermediate_steps\": exc.intermediate_steps}\n",
    "    example = _parse_example(result)\n",
    "\n",
    "\n",
    "# print for now, in reality you may want to write this out to a YAML file or database for manual fix-ups offline\n",
    "yaml_example = yaml.dump(example, allow_unicode=True)\n",
    "print(\"\\n\" + yaml_example)"
   ]
  },
  {
   "cell_type": "code",
   "execution_count": null,
   "metadata": {
    "tags": []
   },
   "outputs": [],
   "source": [
    "# Use the corrected examples for few shot prompt examples\n",
    "SQL_SAMPLES = None\n",
    "\n",
    "with open(\"../few_shot_examples/sql_examples_redshift_slim.yaml\", \"r\") as stream:\n",
    "    SQL_SAMPLES = yaml.safe_load(stream)\n",
    "\n",
    "print(yaml.dump(SQL_SAMPLES[0], allow_unicode=True))"
   ]
  },
  {
   "cell_type": "code",
   "execution_count": null,
   "metadata": {
    "tags": []
   },
   "outputs": [],
   "source": [
    "from langchain import FewShotPromptTemplate, PromptTemplate\n",
    "from langchain.chains.sql_database.prompt import _postgres_prompt, PROMPT_SUFFIX\n",
    "from langchain.embeddings.huggingface import HuggingFaceEmbeddings\n",
    "from langchain.prompts.example_selector.semantic_similarity import (\n",
    "    SemanticSimilarityExampleSelector,\n",
    ")\n",
    "from langchain.vectorstores import Chroma\n",
    "\n",
    "example_prompt = PromptTemplate(\n",
    "    input_variables=[\"table_info\", \"input\", \"sql_cmd\", \"sql_result\", \"answer\"],\n",
    "    template=\"{table_info}\\n\\nQuestion: {input}\\nSQLQuery: {sql_cmd}\\nSQLResult: {sql_result}\\nAnswer: {answer}\",\n",
    ")\n",
    "\n",
    "examples_dict = SQL_SAMPLES\n",
    "\n",
    "local_embeddings = HuggingFaceEmbeddings(\n",
    "    model_name=\"sentence-transformers/all-MiniLM-L6-v2\"\n",
    ")\n",
    "\n",
    "example_selector = SemanticSimilarityExampleSelector.from_examples(\n",
    "    # This is the list of examples available to select from.\n",
    "    examples_dict,\n",
    "    # This is the embedding class used to produce embeddings which are used to measure semantic similarity.\n",
    "    local_embeddings,\n",
    "    # This is the VectorStore class that is used to store the embeddings and do a similarity search over.\n",
    "    Chroma,  # type: ignore\n",
    "    # This is the number of examples to produce and include per prompt\n",
    "    k=min(3, len(examples_dict)),\n",
    ")\n",
    "\n",
    "few_shot_prompt = FewShotPromptTemplate(\n",
    "    example_selector=example_selector,\n",
    "    example_prompt=example_prompt,\n",
    "    prefix=_postgres_prompt + \"Here are some examples:\",\n",
    "    suffix=PROMPT_SUFFIX,\n",
    "    input_variables=[\"table_info\", \"input\", \"top_k\"],\n",
    ")"
   ]
  },
  {
   "cell_type": "code",
   "execution_count": null,
   "metadata": {
    "tags": []
   },
   "outputs": [],
   "source": [
    "db_chain = SQLDatabaseChain.from_llm(\n",
    "    llm,\n",
    "    db,\n",
    "    prompt=few_shot_prompt,\n",
    "    use_query_checker=True,\n",
    "    verbose=True,\n",
    "    return_intermediate_steps=True,\n",
    ")\n",
    "\n",
    "try:\n",
    "    result = db_chain(QUESTION_07)\n",
    "except (ProgrammingError, ValueError) as exc:\n",
    "    print(f\"\\n\\n{exc}\")"
   ]
  },
  {
   "cell_type": "markdown",
   "metadata": {},
   "source": [
    "## LangChain SQL Database Agent\n",
    "\n",
    "According to LangChain [documentation](https://python.langchain.com/en/latest/modules/agents/toolkits/examples/sql_database.html#sql-database-agent), the SQL Database Agent \"_builds off of `SQLDatabaseChain` and is designed to answer more general questions about a database, as well as recover from errors._\" __NOTE__: _it is not guaranteed that the agent won’t perform DML statements on your database given certain questions. Be careful running it on sensitive data!_\""
   ]
  },
  {
   "cell_type": "code",
   "execution_count": null,
   "metadata": {
    "tags": []
   },
   "outputs": [],
   "source": [
    "from langchain.agents import create_sql_agent\n",
    "from langchain.agents.agent_toolkits import SQLDatabaseToolkit\n",
    "from langchain.sql_database import SQLDatabase"
   ]
  },
  {
   "cell_type": "code",
   "execution_count": null,
   "metadata": {
    "tags": []
   },
   "outputs": [],
   "source": [
    "# Example of describing a table using the agent\n",
    "toolkit = SQLDatabaseToolkit(db=db, llm=llm)\n",
    "\n",
    "agent_executor = create_sql_agent(llm=llm, toolkit=toolkit, verbose=True)\n",
    "\n",
    "try:\n",
    "    agent_executor.run(\"Describe the d_venue table.\")\n",
    "except (ProgrammingError, ValueError) as exc:\n",
    "    print(f\"\\n\\n{exc}\")"
   ]
  },
  {
   "cell_type": "code",
   "execution_count": null,
   "metadata": {
    "tags": []
   },
   "outputs": [],
   "source": [
    "# Example of running queries using the agent\n",
    "try:\n",
    "    agent_executor.run(QUESTION_07)\n",
    "except (ProgrammingError, ValueError) as exc:\n",
    "    print(f\"\\n\\n{exc}\")"
   ]
  },
  {
   "cell_type": "code",
   "execution_count": null,
   "metadata": {},
   "outputs": [],
   "source": []
  }
 ],
 "metadata": {
  "availableInstances": [
   {
    "_defaultOrder": 0,
    "_isFastLaunch": true,
    "category": "General purpose",
    "gpuNum": 0,
    "hideHardwareSpecs": false,
    "memoryGiB": 4,
    "name": "ml.t3.medium",
    "vcpuNum": 2
   },
   {
    "_defaultOrder": 1,
    "_isFastLaunch": false,
    "category": "General purpose",
    "gpuNum": 0,
    "hideHardwareSpecs": false,
    "memoryGiB": 8,
    "name": "ml.t3.large",
    "vcpuNum": 2
   },
   {
    "_defaultOrder": 2,
    "_isFastLaunch": false,
    "category": "General purpose",
    "gpuNum": 0,
    "hideHardwareSpecs": false,
    "memoryGiB": 16,
    "name": "ml.t3.xlarge",
    "vcpuNum": 4
   },
   {
    "_defaultOrder": 3,
    "_isFastLaunch": false,
    "category": "General purpose",
    "gpuNum": 0,
    "hideHardwareSpecs": false,
    "memoryGiB": 32,
    "name": "ml.t3.2xlarge",
    "vcpuNum": 8
   },
   {
    "_defaultOrder": 4,
    "_isFastLaunch": true,
    "category": "General purpose",
    "gpuNum": 0,
    "hideHardwareSpecs": false,
    "memoryGiB": 8,
    "name": "ml.m5.large",
    "vcpuNum": 2
   },
   {
    "_defaultOrder": 5,
    "_isFastLaunch": false,
    "category": "General purpose",
    "gpuNum": 0,
    "hideHardwareSpecs": false,
    "memoryGiB": 16,
    "name": "ml.m5.xlarge",
    "vcpuNum": 4
   },
   {
    "_defaultOrder": 6,
    "_isFastLaunch": false,
    "category": "General purpose",
    "gpuNum": 0,
    "hideHardwareSpecs": false,
    "memoryGiB": 32,
    "name": "ml.m5.2xlarge",
    "vcpuNum": 8
   },
   {
    "_defaultOrder": 7,
    "_isFastLaunch": false,
    "category": "General purpose",
    "gpuNum": 0,
    "hideHardwareSpecs": false,
    "memoryGiB": 64,
    "name": "ml.m5.4xlarge",
    "vcpuNum": 16
   },
   {
    "_defaultOrder": 8,
    "_isFastLaunch": false,
    "category": "General purpose",
    "gpuNum": 0,
    "hideHardwareSpecs": false,
    "memoryGiB": 128,
    "name": "ml.m5.8xlarge",
    "vcpuNum": 32
   },
   {
    "_defaultOrder": 9,
    "_isFastLaunch": false,
    "category": "General purpose",
    "gpuNum": 0,
    "hideHardwareSpecs": false,
    "memoryGiB": 192,
    "name": "ml.m5.12xlarge",
    "vcpuNum": 48
   },
   {
    "_defaultOrder": 10,
    "_isFastLaunch": false,
    "category": "General purpose",
    "gpuNum": 0,
    "hideHardwareSpecs": false,
    "memoryGiB": 256,
    "name": "ml.m5.16xlarge",
    "vcpuNum": 64
   },
   {
    "_defaultOrder": 11,
    "_isFastLaunch": false,
    "category": "General purpose",
    "gpuNum": 0,
    "hideHardwareSpecs": false,
    "memoryGiB": 384,
    "name": "ml.m5.24xlarge",
    "vcpuNum": 96
   },
   {
    "_defaultOrder": 12,
    "_isFastLaunch": false,
    "category": "General purpose",
    "gpuNum": 0,
    "hideHardwareSpecs": false,
    "memoryGiB": 8,
    "name": "ml.m5d.large",
    "vcpuNum": 2
   },
   {
    "_defaultOrder": 13,
    "_isFastLaunch": false,
    "category": "General purpose",
    "gpuNum": 0,
    "hideHardwareSpecs": false,
    "memoryGiB": 16,
    "name": "ml.m5d.xlarge",
    "vcpuNum": 4
   },
   {
    "_defaultOrder": 14,
    "_isFastLaunch": false,
    "category": "General purpose",
    "gpuNum": 0,
    "hideHardwareSpecs": false,
    "memoryGiB": 32,
    "name": "ml.m5d.2xlarge",
    "vcpuNum": 8
   },
   {
    "_defaultOrder": 15,
    "_isFastLaunch": false,
    "category": "General purpose",
    "gpuNum": 0,
    "hideHardwareSpecs": false,
    "memoryGiB": 64,
    "name": "ml.m5d.4xlarge",
    "vcpuNum": 16
   },
   {
    "_defaultOrder": 16,
    "_isFastLaunch": false,
    "category": "General purpose",
    "gpuNum": 0,
    "hideHardwareSpecs": false,
    "memoryGiB": 128,
    "name": "ml.m5d.8xlarge",
    "vcpuNum": 32
   },
   {
    "_defaultOrder": 17,
    "_isFastLaunch": false,
    "category": "General purpose",
    "gpuNum": 0,
    "hideHardwareSpecs": false,
    "memoryGiB": 192,
    "name": "ml.m5d.12xlarge",
    "vcpuNum": 48
   },
   {
    "_defaultOrder": 18,
    "_isFastLaunch": false,
    "category": "General purpose",
    "gpuNum": 0,
    "hideHardwareSpecs": false,
    "memoryGiB": 256,
    "name": "ml.m5d.16xlarge",
    "vcpuNum": 64
   },
   {
    "_defaultOrder": 19,
    "_isFastLaunch": false,
    "category": "General purpose",
    "gpuNum": 0,
    "hideHardwareSpecs": false,
    "memoryGiB": 384,
    "name": "ml.m5d.24xlarge",
    "vcpuNum": 96
   },
   {
    "_defaultOrder": 20,
    "_isFastLaunch": false,
    "category": "General purpose",
    "gpuNum": 0,
    "hideHardwareSpecs": true,
    "memoryGiB": 0,
    "name": "ml.geospatial.interactive",
    "supportedImageNames": [
     "sagemaker-geospatial-v1-0"
    ],
    "vcpuNum": 0
   },
   {
    "_defaultOrder": 21,
    "_isFastLaunch": true,
    "category": "Compute optimized",
    "gpuNum": 0,
    "hideHardwareSpecs": false,
    "memoryGiB": 4,
    "name": "ml.c5.large",
    "vcpuNum": 2
   },
   {
    "_defaultOrder": 22,
    "_isFastLaunch": false,
    "category": "Compute optimized",
    "gpuNum": 0,
    "hideHardwareSpecs": false,
    "memoryGiB": 8,
    "name": "ml.c5.xlarge",
    "vcpuNum": 4
   },
   {
    "_defaultOrder": 23,
    "_isFastLaunch": false,
    "category": "Compute optimized",
    "gpuNum": 0,
    "hideHardwareSpecs": false,
    "memoryGiB": 16,
    "name": "ml.c5.2xlarge",
    "vcpuNum": 8
   },
   {
    "_defaultOrder": 24,
    "_isFastLaunch": false,
    "category": "Compute optimized",
    "gpuNum": 0,
    "hideHardwareSpecs": false,
    "memoryGiB": 32,
    "name": "ml.c5.4xlarge",
    "vcpuNum": 16
   },
   {
    "_defaultOrder": 25,
    "_isFastLaunch": false,
    "category": "Compute optimized",
    "gpuNum": 0,
    "hideHardwareSpecs": false,
    "memoryGiB": 72,
    "name": "ml.c5.9xlarge",
    "vcpuNum": 36
   },
   {
    "_defaultOrder": 26,
    "_isFastLaunch": false,
    "category": "Compute optimized",
    "gpuNum": 0,
    "hideHardwareSpecs": false,
    "memoryGiB": 96,
    "name": "ml.c5.12xlarge",
    "vcpuNum": 48
   },
   {
    "_defaultOrder": 27,
    "_isFastLaunch": false,
    "category": "Compute optimized",
    "gpuNum": 0,
    "hideHardwareSpecs": false,
    "memoryGiB": 144,
    "name": "ml.c5.18xlarge",
    "vcpuNum": 72
   },
   {
    "_defaultOrder": 28,
    "_isFastLaunch": false,
    "category": "Compute optimized",
    "gpuNum": 0,
    "hideHardwareSpecs": false,
    "memoryGiB": 192,
    "name": "ml.c5.24xlarge",
    "vcpuNum": 96
   },
   {
    "_defaultOrder": 29,
    "_isFastLaunch": true,
    "category": "Accelerated computing",
    "gpuNum": 1,
    "hideHardwareSpecs": false,
    "memoryGiB": 16,
    "name": "ml.g4dn.xlarge",
    "vcpuNum": 4
   },
   {
    "_defaultOrder": 30,
    "_isFastLaunch": false,
    "category": "Accelerated computing",
    "gpuNum": 1,
    "hideHardwareSpecs": false,
    "memoryGiB": 32,
    "name": "ml.g4dn.2xlarge",
    "vcpuNum": 8
   },
   {
    "_defaultOrder": 31,
    "_isFastLaunch": false,
    "category": "Accelerated computing",
    "gpuNum": 1,
    "hideHardwareSpecs": false,
    "memoryGiB": 64,
    "name": "ml.g4dn.4xlarge",
    "vcpuNum": 16
   },
   {
    "_defaultOrder": 32,
    "_isFastLaunch": false,
    "category": "Accelerated computing",
    "gpuNum": 1,
    "hideHardwareSpecs": false,
    "memoryGiB": 128,
    "name": "ml.g4dn.8xlarge",
    "vcpuNum": 32
   },
   {
    "_defaultOrder": 33,
    "_isFastLaunch": false,
    "category": "Accelerated computing",
    "gpuNum": 4,
    "hideHardwareSpecs": false,
    "memoryGiB": 192,
    "name": "ml.g4dn.12xlarge",
    "vcpuNum": 48
   },
   {
    "_defaultOrder": 34,
    "_isFastLaunch": false,
    "category": "Accelerated computing",
    "gpuNum": 1,
    "hideHardwareSpecs": false,
    "memoryGiB": 256,
    "name": "ml.g4dn.16xlarge",
    "vcpuNum": 64
   },
   {
    "_defaultOrder": 35,
    "_isFastLaunch": false,
    "category": "Accelerated computing",
    "gpuNum": 1,
    "hideHardwareSpecs": false,
    "memoryGiB": 61,
    "name": "ml.p3.2xlarge",
    "vcpuNum": 8
   },
   {
    "_defaultOrder": 36,
    "_isFastLaunch": false,
    "category": "Accelerated computing",
    "gpuNum": 4,
    "hideHardwareSpecs": false,
    "memoryGiB": 244,
    "name": "ml.p3.8xlarge",
    "vcpuNum": 32
   },
   {
    "_defaultOrder": 37,
    "_isFastLaunch": false,
    "category": "Accelerated computing",
    "gpuNum": 8,
    "hideHardwareSpecs": false,
    "memoryGiB": 488,
    "name": "ml.p3.16xlarge",
    "vcpuNum": 64
   },
   {
    "_defaultOrder": 38,
    "_isFastLaunch": false,
    "category": "Accelerated computing",
    "gpuNum": 8,
    "hideHardwareSpecs": false,
    "memoryGiB": 768,
    "name": "ml.p3dn.24xlarge",
    "vcpuNum": 96
   },
   {
    "_defaultOrder": 39,
    "_isFastLaunch": false,
    "category": "Memory Optimized",
    "gpuNum": 0,
    "hideHardwareSpecs": false,
    "memoryGiB": 16,
    "name": "ml.r5.large",
    "vcpuNum": 2
   },
   {
    "_defaultOrder": 40,
    "_isFastLaunch": false,
    "category": "Memory Optimized",
    "gpuNum": 0,
    "hideHardwareSpecs": false,
    "memoryGiB": 32,
    "name": "ml.r5.xlarge",
    "vcpuNum": 4
   },
   {
    "_defaultOrder": 41,
    "_isFastLaunch": false,
    "category": "Memory Optimized",
    "gpuNum": 0,
    "hideHardwareSpecs": false,
    "memoryGiB": 64,
    "name": "ml.r5.2xlarge",
    "vcpuNum": 8
   },
   {
    "_defaultOrder": 42,
    "_isFastLaunch": false,
    "category": "Memory Optimized",
    "gpuNum": 0,
    "hideHardwareSpecs": false,
    "memoryGiB": 128,
    "name": "ml.r5.4xlarge",
    "vcpuNum": 16
   },
   {
    "_defaultOrder": 43,
    "_isFastLaunch": false,
    "category": "Memory Optimized",
    "gpuNum": 0,
    "hideHardwareSpecs": false,
    "memoryGiB": 256,
    "name": "ml.r5.8xlarge",
    "vcpuNum": 32
   },
   {
    "_defaultOrder": 44,
    "_isFastLaunch": false,
    "category": "Memory Optimized",
    "gpuNum": 0,
    "hideHardwareSpecs": false,
    "memoryGiB": 384,
    "name": "ml.r5.12xlarge",
    "vcpuNum": 48
   },
   {
    "_defaultOrder": 45,
    "_isFastLaunch": false,
    "category": "Memory Optimized",
    "gpuNum": 0,
    "hideHardwareSpecs": false,
    "memoryGiB": 512,
    "name": "ml.r5.16xlarge",
    "vcpuNum": 64
   },
   {
    "_defaultOrder": 46,
    "_isFastLaunch": false,
    "category": "Memory Optimized",
    "gpuNum": 0,
    "hideHardwareSpecs": false,
    "memoryGiB": 768,
    "name": "ml.r5.24xlarge",
    "vcpuNum": 96
   },
   {
    "_defaultOrder": 47,
    "_isFastLaunch": false,
    "category": "Accelerated computing",
    "gpuNum": 1,
    "hideHardwareSpecs": false,
    "memoryGiB": 16,
    "name": "ml.g5.xlarge",
    "vcpuNum": 4
   },
   {
    "_defaultOrder": 48,
    "_isFastLaunch": false,
    "category": "Accelerated computing",
    "gpuNum": 1,
    "hideHardwareSpecs": false,
    "memoryGiB": 32,
    "name": "ml.g5.2xlarge",
    "vcpuNum": 8
   },
   {
    "_defaultOrder": 49,
    "_isFastLaunch": false,
    "category": "Accelerated computing",
    "gpuNum": 1,
    "hideHardwareSpecs": false,
    "memoryGiB": 64,
    "name": "ml.g5.4xlarge",
    "vcpuNum": 16
   },
   {
    "_defaultOrder": 50,
    "_isFastLaunch": false,
    "category": "Accelerated computing",
    "gpuNum": 1,
    "hideHardwareSpecs": false,
    "memoryGiB": 128,
    "name": "ml.g5.8xlarge",
    "vcpuNum": 32
   },
   {
    "_defaultOrder": 51,
    "_isFastLaunch": false,
    "category": "Accelerated computing",
    "gpuNum": 1,
    "hideHardwareSpecs": false,
    "memoryGiB": 256,
    "name": "ml.g5.16xlarge",
    "vcpuNum": 64
   },
   {
    "_defaultOrder": 52,
    "_isFastLaunch": false,
    "category": "Accelerated computing",
    "gpuNum": 4,
    "hideHardwareSpecs": false,
    "memoryGiB": 192,
    "name": "ml.g5.12xlarge",
    "vcpuNum": 48
   },
   {
    "_defaultOrder": 53,
    "_isFastLaunch": false,
    "category": "Accelerated computing",
    "gpuNum": 4,
    "hideHardwareSpecs": false,
    "memoryGiB": 384,
    "name": "ml.g5.24xlarge",
    "vcpuNum": 96
   },
   {
    "_defaultOrder": 54,
    "_isFastLaunch": false,
    "category": "Accelerated computing",
    "gpuNum": 8,
    "hideHardwareSpecs": false,
    "memoryGiB": 768,
    "name": "ml.g5.48xlarge",
    "vcpuNum": 192
   },
   {
    "_defaultOrder": 55,
    "_isFastLaunch": false,
    "category": "Accelerated computing",
    "gpuNum": 8,
    "hideHardwareSpecs": false,
    "memoryGiB": 1152,
    "name": "ml.p4d.24xlarge",
    "vcpuNum": 96
   },
   {
    "_defaultOrder": 56,
    "_isFastLaunch": false,
    "category": "Accelerated computing",
    "gpuNum": 8,
    "hideHardwareSpecs": false,
    "memoryGiB": 1152,
    "name": "ml.p4de.24xlarge",
    "vcpuNum": 96
   }
  ],
  "instance_type": "ml.m5.large",
  "kernelspec": {
   "display_name": "Python 3 (Base Python 3.0)",
   "language": "python",
   "name": "python3__SAGEMAKER_INTERNAL__arn:aws:sagemaker:us-east-1:081325390199:image/sagemaker-base-python-310-v1"
  },
  "language_info": {
   "codemirror_mode": {
    "name": "ipython",
    "version": 3
   },
   "file_extension": ".py",
   "mimetype": "text/x-python",
   "name": "python",
   "nbconvert_exporter": "python",
   "pygments_lexer": "ipython3",
   "version": "3.10.8"
  }
 },
 "nbformat": 4,
 "nbformat_minor": 4
}
